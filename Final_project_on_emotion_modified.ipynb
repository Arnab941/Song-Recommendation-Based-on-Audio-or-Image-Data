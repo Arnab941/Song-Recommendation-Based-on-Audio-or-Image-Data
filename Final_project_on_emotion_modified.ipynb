{
  "nbformat": 4,
  "nbformat_minor": 0,
  "metadata": {
    "colab": {
      "name": "Final project on emotion.ipynb",
      "provenance": [],
      "collapsed_sections": []
    },
    "kernelspec": {
      "name": "python3",
      "display_name": "Python 3"
    },
    "language_info": {
      "name": "python"
    }
  },
  "cells": [
    {
      "cell_type": "markdown",
      "metadata": {
        "id": "-sVYg9U4cSd4"
      },
      "source": [
        "**SPEECH TO EMOTION**\n",
        "\n"
      ]
    },
    {
      "cell_type": "code",
      "metadata": {
        "id": "WTa-6JJ9Zv_M",
        "colab": {
          "base_uri": "https://localhost:8080/"
        },
        "outputId": "2f791d7d-99c4-4722-d21b-884a0cb66ac7"
      },
      "source": [
        "from google.colab import drive\n",
        "drive.mount('/content/drive/')"
      ],
      "execution_count": 1,
      "outputs": [
        {
          "output_type": "stream",
          "name": "stdout",
          "text": [
            "Mounted at /content/drive/\n"
          ]
        }
      ]
    },
    {
      "cell_type": "code",
      "metadata": {
        "id": "-O4fOJmmaGX6",
        "colab": {
          "base_uri": "https://localhost:8080/"
        },
        "outputId": "d94a1dd6-2e77-4248-a031-59126bb0354e"
      },
      "source": [
        "from tensorflow import keras\n",
        "from tensorflow.keras import layers\n",
        "\n",
        "new_model=keras.models.load_model('/content/drive/My Drive/Deep_learning_datasets/Ravdess/DL_model/model-182-0.843678.h5')\n",
        "opt = keras.optimizers.RMSprop(lr=0.00005, rho=0.9, epsilon=1e-07, decay=0.0)\n",
        "new_model.compile(loss='sparse_categorical_crossentropy',\n",
        "                  optimizer='adam',\n",
        "                  metrics=['accuracy'])"
      ],
      "execution_count": 2,
      "outputs": [
        {
          "output_type": "stream",
          "name": "stderr",
          "text": [
            "/usr/local/lib/python3.7/dist-packages/keras/optimizer_v2/rmsprop.py:130: UserWarning: The `lr` argument is deprecated, use `learning_rate` instead.\n",
            "  super(RMSprop, self).__init__(name, **kwargs)\n"
          ]
        }
      ]
    },
    {
      "cell_type": "code",
      "metadata": {
        "colab": {
          "base_uri": "https://localhost:8080/"
        },
        "id": "mAu2wDNwaS5I",
        "outputId": "59acf98d-462b-4c61-fe4a-1e526cb1da1f"
      },
      "source": [
        "new_model.summary()"
      ],
      "execution_count": 3,
      "outputs": [
        {
          "output_type": "stream",
          "name": "stdout",
          "text": [
            "Model: \"sequential_1\"\n",
            "_________________________________________________________________\n",
            " Layer (type)                Output Shape              Param #   \n",
            "=================================================================\n",
            " conv1d_3 (Conv1D)           (None, 40, 64)            384       \n",
            "                                                                 \n",
            " activation_4 (Activation)   (None, 40, 64)            0         \n",
            "                                                                 \n",
            " dropout_3 (Dropout)         (None, 40, 64)            0         \n",
            "                                                                 \n",
            " max_pooling1d_2 (MaxPooling  (None, 10, 64)           0         \n",
            " 1D)                                                             \n",
            "                                                                 \n",
            " conv1d_4 (Conv1D)           (None, 10, 128)           41088     \n",
            "                                                                 \n",
            " activation_5 (Activation)   (None, 10, 128)           0         \n",
            "                                                                 \n",
            " dropout_4 (Dropout)         (None, 10, 128)           0         \n",
            "                                                                 \n",
            " max_pooling1d_3 (MaxPooling  (None, 2, 128)           0         \n",
            " 1D)                                                             \n",
            "                                                                 \n",
            " conv1d_5 (Conv1D)           (None, 2, 256)            164096    \n",
            "                                                                 \n",
            " activation_6 (Activation)   (None, 2, 256)            0         \n",
            "                                                                 \n",
            " dropout_5 (Dropout)         (None, 2, 256)            0         \n",
            "                                                                 \n",
            " flatten_1 (Flatten)         (None, 512)               0         \n",
            "                                                                 \n",
            " dense_1 (Dense)             (None, 8)                 4104      \n",
            "                                                                 \n",
            " activation_7 (Activation)   (None, 8)                 0         \n",
            "                                                                 \n",
            "=================================================================\n",
            "Total params: 209,672\n",
            "Trainable params: 209,672\n",
            "Non-trainable params: 0\n",
            "_________________________________________________________________\n"
          ]
        }
      ]
    },
    {
      "cell_type": "code",
      "metadata": {
        "id": "N8eJjK7laW_A"
      },
      "source": [
        "import joblib\n",
        "X = joblib.load('/content/drive/My Drive/Deep_learning_datasets/Ravdess/Project_model_DI/X.joblib')\n",
        "y = joblib.load('/content/drive/My Drive/Deep_learning_datasets/Ravdess/Project_model_DI/y.joblib')"
      ],
      "execution_count": 4,
      "outputs": []
    },
    {
      "cell_type": "code",
      "metadata": {
        "id": "S9aDwmIqabnA"
      },
      "source": [
        "from sklearn.model_selection import train_test_split\n",
        "\n",
        "X_train, X_test, y_train, y_test = train_test_split(X,y, test_size=0.33, random_state=42)"
      ],
      "execution_count": 5,
      "outputs": []
    },
    {
      "cell_type": "code",
      "metadata": {
        "id": "KJEan3fYaeT_"
      },
      "source": [
        "import numpy as np\n",
        "x_traincnn = np.expand_dims(X_train, axis=2)\n",
        "x_testcnn = np.expand_dims(X_test, axis=2)"
      ],
      "execution_count": 6,
      "outputs": []
    },
    {
      "cell_type": "code",
      "metadata": {
        "colab": {
          "base_uri": "https://localhost:8080/"
        },
        "id": "bUkeZ2MLahT4",
        "outputId": "98287db1-446d-4315-d489-2b94887208d1"
      },
      "source": [
        "x_traincnn.shape, x_testcnn.shape"
      ],
      "execution_count": 7,
      "outputs": [
        {
          "output_type": "execute_result",
          "data": {
            "text/plain": [
              "((3532, 40, 1), (1740, 40, 1))"
            ]
          },
          "metadata": {},
          "execution_count": 7
        }
      ]
    },
    {
      "cell_type": "code",
      "metadata": {
        "id": "KX0ns7lrak7X"
      },
      "source": [
        "new_model.compile(loss='sparse_categorical_crossentropy',\n",
        "              optimizer=opt,\n",
        "              metrics=['accuracy'])"
      ],
      "execution_count": 8,
      "outputs": []
    },
    {
      "cell_type": "code",
      "metadata": {
        "colab": {
          "base_uri": "https://localhost:8080/"
        },
        "id": "lTM1tWq3an_n",
        "outputId": "1d4d43e3-4e15-4372-d0f4-baa261c4a97a"
      },
      "source": [
        "new_model.evaluate(x_testcnn,y_test)"
      ],
      "execution_count": 9,
      "outputs": [
        {
          "output_type": "stream",
          "name": "stdout",
          "text": [
            "55/55 [==============================] - 1s 3ms/step - loss: 0.4540 - accuracy: 0.8437\n"
          ]
        },
        {
          "output_type": "execute_result",
          "data": {
            "text/plain": [
              "[0.4539644122123718, 0.8436781764030457]"
            ]
          },
          "metadata": {},
          "execution_count": 9
        }
      ]
    },
    {
      "cell_type": "code",
      "metadata": {
        "id": "nK5R4QLZaqOQ"
      },
      "source": [
        "import librosa"
      ],
      "execution_count": 10,
      "outputs": []
    },
    {
      "cell_type": "code",
      "metadata": {
        "id": "2AL8KpMjavTv"
      },
      "source": [
        "def get_the_mfcc(path):\n",
        "  X, sample_rate = librosa.load(path, res_type='kaiser_fast')\n",
        "  mfccs = np.mean(librosa.feature.mfcc(y=X, sr=sample_rate, n_mfcc=40).T,axis=0)\n",
        "  return mfccs"
      ],
      "execution_count": 11,
      "outputs": []
    },
    {
      "cell_type": "code",
      "metadata": {
        "id": "d-y4_zfibll8"
      },
      "source": [
        "emotions={\n",
        "  '1':'neutral',\n",
        "  '2':'calm',\n",
        "  '3':'happy',\n",
        "  '4':'sad',\n",
        "  '5':'angry',\n",
        "  '6':'fear',\n",
        "  '7':'disgust',\n",
        "  '8':'surprise'\n",
        "}"
      ],
      "execution_count": 12,
      "outputs": []
    },
    {
      "cell_type": "code",
      "metadata": {
        "id": "NfGIcPyya8VZ"
      },
      "source": [
        "def speech_to_emotion():\n",
        "  s='/content/drive/My Drive/Deep_learning_datasets/Ravdess/Test_audio/'\n",
        "  path=s+input('Enter your file name: ').strip()+'.wav'\n",
        "  x=get_the_mfcc(path)\n",
        "\n",
        "  x=np.asarray(x)\n",
        "  x_cnn = np.expand_dims(x, axis=1)\n",
        "  x_cnn=np.expand_dims(x_cnn,axis=0)\n",
        "\n",
        "  result=new_model.predict(x_cnn)[0]\n",
        "\n",
        "  m=max(result)\n",
        "  for i in  range(8):\n",
        "    if result[i]==m:\n",
        "      ind=i+1\n",
        "      break\n",
        "  print()\n",
        "  return emotions[str(ind)]"
      ],
      "execution_count": 13,
      "outputs": []
    },
    {
      "cell_type": "code",
      "metadata": {
        "colab": {
          "base_uri": "https://localhost:8080/"
        },
        "id": "19CTxjPzb9ed",
        "outputId": "3457ffd0-6493-47e0-cc63-8be4a1f50c78"
      },
      "source": [
        "m=speech_to_emotion()\n",
        "print(m)"
      ],
      "execution_count": 14,
      "outputs": [
        {
          "output_type": "stream",
          "name": "stdout",
          "text": [
            "Enter your file name: 03-01-05-01-01-01-09\n",
            "\n",
            "happy\n"
          ]
        }
      ]
    },
    {
      "cell_type": "markdown",
      "metadata": {
        "id": "_Xg8YxFPcaTg"
      },
      "source": [
        "**IMAGE TO EMOTION**"
      ]
    },
    {
      "cell_type": "code",
      "metadata": {
        "colab": {
          "base_uri": "https://localhost:8080/"
        },
        "id": "R3KPjOGEb_i_",
        "outputId": "68796b0f-094e-4187-9398-e4c9fffff128"
      },
      "source": [
        "pip install deepface"
      ],
      "execution_count": 15,
      "outputs": [
        {
          "output_type": "stream",
          "name": "stdout",
          "text": [
            "Collecting deepface\n",
            "  Downloading deepface-0.0.68-py3-none-any.whl (61 kB)\n",
            "\u001b[?25l\r\u001b[K     |█████▍                          | 10 kB 20.5 MB/s eta 0:00:01\r\u001b[K     |██████████▊                     | 20 kB 25.9 MB/s eta 0:00:01\r\u001b[K     |████████████████                | 30 kB 18.5 MB/s eta 0:00:01\r\u001b[K     |█████████████████████▍          | 40 kB 15.6 MB/s eta 0:00:01\r\u001b[K     |██████████████████████████▊     | 51 kB 5.3 MB/s eta 0:00:01\r\u001b[K     |████████████████████████████████| 61 kB 3.5 MB/s \n",
            "\u001b[?25hCollecting gdown>=3.10.1\n",
            "  Downloading gdown-4.2.0.tar.gz (13 kB)\n",
            "  Installing build dependencies ... \u001b[?25l\u001b[?25hdone\n",
            "  Getting requirements to build wheel ... \u001b[?25l\u001b[?25hdone\n",
            "    Preparing wheel metadata ... \u001b[?25l\u001b[?25hdone\n",
            "Requirement already satisfied: pandas>=0.23.4 in /usr/local/lib/python3.7/dist-packages (from deepface) (1.1.5)\n",
            "Requirement already satisfied: Flask>=1.1.2 in /usr/local/lib/python3.7/dist-packages (from deepface) (1.1.4)\n",
            "Requirement already satisfied: opencv-python>=3.4.4 in /usr/local/lib/python3.7/dist-packages (from deepface) (4.1.2.30)\n",
            "Collecting retina-face>=0.0.1\n",
            "  Downloading retina_face-0.0.5-py3-none-any.whl (14 kB)\n",
            "Requirement already satisfied: tqdm>=4.30.0 in /usr/local/lib/python3.7/dist-packages (from deepface) (4.62.3)\n",
            "Requirement already satisfied: numpy>=1.14.0 in /usr/local/lib/python3.7/dist-packages (from deepface) (1.19.5)\n",
            "Collecting mtcnn>=0.1.0\n",
            "  Downloading mtcnn-0.1.1-py3-none-any.whl (2.3 MB)\n",
            "\u001b[K     |████████████████████████████████| 2.3 MB 19.1 MB/s \n",
            "\u001b[?25hRequirement already satisfied: Pillow>=5.2.0 in /usr/local/lib/python3.7/dist-packages (from deepface) (7.1.2)\n",
            "Requirement already satisfied: tensorflow>=1.9.0 in /usr/local/lib/python3.7/dist-packages (from deepface) (2.7.0)\n",
            "Requirement already satisfied: keras>=2.2.0 in /usr/local/lib/python3.7/dist-packages (from deepface) (2.7.0)\n",
            "Requirement already satisfied: itsdangerous<2.0,>=0.24 in /usr/local/lib/python3.7/dist-packages (from Flask>=1.1.2->deepface) (1.1.0)\n",
            "Requirement already satisfied: click<8.0,>=5.1 in /usr/local/lib/python3.7/dist-packages (from Flask>=1.1.2->deepface) (7.1.2)\n",
            "Requirement already satisfied: Werkzeug<2.0,>=0.15 in /usr/local/lib/python3.7/dist-packages (from Flask>=1.1.2->deepface) (1.0.1)\n",
            "Requirement already satisfied: Jinja2<3.0,>=2.10.1 in /usr/local/lib/python3.7/dist-packages (from Flask>=1.1.2->deepface) (2.11.3)\n",
            "Requirement already satisfied: beautifulsoup4 in /usr/local/lib/python3.7/dist-packages (from gdown>=3.10.1->deepface) (4.6.3)\n",
            "Requirement already satisfied: filelock in /usr/local/lib/python3.7/dist-packages (from gdown>=3.10.1->deepface) (3.4.0)\n",
            "Requirement already satisfied: requests[socks] in /usr/local/lib/python3.7/dist-packages (from gdown>=3.10.1->deepface) (2.23.0)\n",
            "Requirement already satisfied: six in /usr/local/lib/python3.7/dist-packages (from gdown>=3.10.1->deepface) (1.15.0)\n",
            "Requirement already satisfied: MarkupSafe>=0.23 in /usr/local/lib/python3.7/dist-packages (from Jinja2<3.0,>=2.10.1->Flask>=1.1.2->deepface) (2.0.1)\n",
            "Requirement already satisfied: pytz>=2017.2 in /usr/local/lib/python3.7/dist-packages (from pandas>=0.23.4->deepface) (2018.9)\n",
            "Requirement already satisfied: python-dateutil>=2.7.3 in /usr/local/lib/python3.7/dist-packages (from pandas>=0.23.4->deepface) (2.8.2)\n",
            "Requirement already satisfied: flatbuffers<3.0,>=1.12 in /usr/local/lib/python3.7/dist-packages (from tensorflow>=1.9.0->deepface) (2.0)\n",
            "Requirement already satisfied: tensorflow-io-gcs-filesystem>=0.21.0 in /usr/local/lib/python3.7/dist-packages (from tensorflow>=1.9.0->deepface) (0.22.0)\n",
            "Requirement already satisfied: gast<0.5.0,>=0.2.1 in /usr/local/lib/python3.7/dist-packages (from tensorflow>=1.9.0->deepface) (0.4.0)\n",
            "Requirement already satisfied: libclang>=9.0.1 in /usr/local/lib/python3.7/dist-packages (from tensorflow>=1.9.0->deepface) (12.0.0)\n",
            "Requirement already satisfied: wheel<1.0,>=0.32.0 in /usr/local/lib/python3.7/dist-packages (from tensorflow>=1.9.0->deepface) (0.37.0)\n",
            "Requirement already satisfied: tensorboard~=2.6 in /usr/local/lib/python3.7/dist-packages (from tensorflow>=1.9.0->deepface) (2.7.0)\n",
            "Requirement already satisfied: typing-extensions>=3.6.6 in /usr/local/lib/python3.7/dist-packages (from tensorflow>=1.9.0->deepface) (3.10.0.2)\n",
            "Requirement already satisfied: opt-einsum>=2.3.2 in /usr/local/lib/python3.7/dist-packages (from tensorflow>=1.9.0->deepface) (3.3.0)\n",
            "Requirement already satisfied: google-pasta>=0.1.1 in /usr/local/lib/python3.7/dist-packages (from tensorflow>=1.9.0->deepface) (0.2.0)\n",
            "Requirement already satisfied: absl-py>=0.4.0 in /usr/local/lib/python3.7/dist-packages (from tensorflow>=1.9.0->deepface) (0.12.0)\n",
            "Requirement already satisfied: wrapt>=1.11.0 in /usr/local/lib/python3.7/dist-packages (from tensorflow>=1.9.0->deepface) (1.13.3)\n",
            "Requirement already satisfied: h5py>=2.9.0 in /usr/local/lib/python3.7/dist-packages (from tensorflow>=1.9.0->deepface) (3.1.0)\n",
            "Requirement already satisfied: protobuf>=3.9.2 in /usr/local/lib/python3.7/dist-packages (from tensorflow>=1.9.0->deepface) (3.17.3)\n",
            "Requirement already satisfied: grpcio<2.0,>=1.24.3 in /usr/local/lib/python3.7/dist-packages (from tensorflow>=1.9.0->deepface) (1.42.0)\n",
            "Requirement already satisfied: termcolor>=1.1.0 in /usr/local/lib/python3.7/dist-packages (from tensorflow>=1.9.0->deepface) (1.1.0)\n",
            "Requirement already satisfied: keras-preprocessing>=1.1.1 in /usr/local/lib/python3.7/dist-packages (from tensorflow>=1.9.0->deepface) (1.1.2)\n",
            "Requirement already satisfied: astunparse>=1.6.0 in /usr/local/lib/python3.7/dist-packages (from tensorflow>=1.9.0->deepface) (1.6.3)\n",
            "Requirement already satisfied: tensorflow-estimator<2.8,~=2.7.0rc0 in /usr/local/lib/python3.7/dist-packages (from tensorflow>=1.9.0->deepface) (2.7.0)\n",
            "Requirement already satisfied: cached-property in /usr/local/lib/python3.7/dist-packages (from h5py>=2.9.0->tensorflow>=1.9.0->deepface) (1.5.2)\n",
            "Requirement already satisfied: tensorboard-data-server<0.7.0,>=0.6.0 in /usr/local/lib/python3.7/dist-packages (from tensorboard~=2.6->tensorflow>=1.9.0->deepface) (0.6.1)\n",
            "Requirement already satisfied: markdown>=2.6.8 in /usr/local/lib/python3.7/dist-packages (from tensorboard~=2.6->tensorflow>=1.9.0->deepface) (3.3.6)\n",
            "Requirement already satisfied: google-auth<3,>=1.6.3 in /usr/local/lib/python3.7/dist-packages (from tensorboard~=2.6->tensorflow>=1.9.0->deepface) (1.35.0)\n",
            "Requirement already satisfied: tensorboard-plugin-wit>=1.6.0 in /usr/local/lib/python3.7/dist-packages (from tensorboard~=2.6->tensorflow>=1.9.0->deepface) (1.8.0)\n",
            "Requirement already satisfied: google-auth-oauthlib<0.5,>=0.4.1 in /usr/local/lib/python3.7/dist-packages (from tensorboard~=2.6->tensorflow>=1.9.0->deepface) (0.4.6)\n",
            "Requirement already satisfied: setuptools>=41.0.0 in /usr/local/lib/python3.7/dist-packages (from tensorboard~=2.6->tensorflow>=1.9.0->deepface) (57.4.0)\n",
            "Requirement already satisfied: rsa<5,>=3.1.4 in /usr/local/lib/python3.7/dist-packages (from google-auth<3,>=1.6.3->tensorboard~=2.6->tensorflow>=1.9.0->deepface) (4.7.2)\n",
            "Requirement already satisfied: cachetools<5.0,>=2.0.0 in /usr/local/lib/python3.7/dist-packages (from google-auth<3,>=1.6.3->tensorboard~=2.6->tensorflow>=1.9.0->deepface) (4.2.4)\n",
            "Requirement already satisfied: pyasn1-modules>=0.2.1 in /usr/local/lib/python3.7/dist-packages (from google-auth<3,>=1.6.3->tensorboard~=2.6->tensorflow>=1.9.0->deepface) (0.2.8)\n",
            "Requirement already satisfied: requests-oauthlib>=0.7.0 in /usr/local/lib/python3.7/dist-packages (from google-auth-oauthlib<0.5,>=0.4.1->tensorboard~=2.6->tensorflow>=1.9.0->deepface) (1.3.0)\n",
            "Requirement already satisfied: importlib-metadata>=4.4 in /usr/local/lib/python3.7/dist-packages (from markdown>=2.6.8->tensorboard~=2.6->tensorflow>=1.9.0->deepface) (4.8.2)\n",
            "Requirement already satisfied: zipp>=0.5 in /usr/local/lib/python3.7/dist-packages (from importlib-metadata>=4.4->markdown>=2.6.8->tensorboard~=2.6->tensorflow>=1.9.0->deepface) (3.6.0)\n",
            "Requirement already satisfied: pyasn1<0.5.0,>=0.4.6 in /usr/local/lib/python3.7/dist-packages (from pyasn1-modules>=0.2.1->google-auth<3,>=1.6.3->tensorboard~=2.6->tensorflow>=1.9.0->deepface) (0.4.8)\n",
            "Requirement already satisfied: chardet<4,>=3.0.2 in /usr/local/lib/python3.7/dist-packages (from requests[socks]->gdown>=3.10.1->deepface) (3.0.4)\n",
            "Requirement already satisfied: urllib3!=1.25.0,!=1.25.1,<1.26,>=1.21.1 in /usr/local/lib/python3.7/dist-packages (from requests[socks]->gdown>=3.10.1->deepface) (1.24.3)\n",
            "Requirement already satisfied: idna<3,>=2.5 in /usr/local/lib/python3.7/dist-packages (from requests[socks]->gdown>=3.10.1->deepface) (2.10)\n",
            "Requirement already satisfied: certifi>=2017.4.17 in /usr/local/lib/python3.7/dist-packages (from requests[socks]->gdown>=3.10.1->deepface) (2021.10.8)\n",
            "Requirement already satisfied: oauthlib>=3.0.0 in /usr/local/lib/python3.7/dist-packages (from requests-oauthlib>=0.7.0->google-auth-oauthlib<0.5,>=0.4.1->tensorboard~=2.6->tensorflow>=1.9.0->deepface) (3.1.1)\n",
            "Requirement already satisfied: PySocks!=1.5.7,>=1.5.6 in /usr/local/lib/python3.7/dist-packages (from requests[socks]->gdown>=3.10.1->deepface) (1.7.1)\n",
            "Building wheels for collected packages: gdown\n",
            "  Building wheel for gdown (PEP 517) ... \u001b[?25l\u001b[?25hdone\n",
            "  Created wheel for gdown: filename=gdown-4.2.0-py3-none-any.whl size=14273 sha256=29ea8aae2412c4ddd18378ccbdd57670d3df1e68b96be80e7d7b35f130be7679\n",
            "  Stored in directory: /root/.cache/pip/wheels/8c/17/ff/58721d1fabdb87c21a0529948cf39e2be9af90ddbe4ad65944\n",
            "Successfully built gdown\n",
            "Installing collected packages: gdown, retina-face, mtcnn, deepface\n",
            "  Attempting uninstall: gdown\n",
            "    Found existing installation: gdown 3.6.4\n",
            "    Uninstalling gdown-3.6.4:\n",
            "      Successfully uninstalled gdown-3.6.4\n",
            "Successfully installed deepface-0.0.68 gdown-4.2.0 mtcnn-0.1.1 retina-face-0.0.5\n"
          ]
        }
      ]
    },
    {
      "cell_type": "code",
      "metadata": {
        "id": "joSh8u1DcoPT",
        "colab": {
          "base_uri": "https://localhost:8080/"
        },
        "outputId": "6fc9a11d-908c-4f75-8c54-80ae243eeb45"
      },
      "source": [
        "import cv2\n",
        "from deepface import DeepFace"
      ],
      "execution_count": 16,
      "outputs": [
        {
          "output_type": "stream",
          "name": "stdout",
          "text": [
            "Directory  /root /.deepface created\n",
            "Directory  /root /.deepface/weights created\n"
          ]
        }
      ]
    },
    {
      "cell_type": "markdown",
      "metadata": {
        "id": "HbcK3MSxewtg"
      },
      "source": [
        "After downloading the facial_expression_model_weights.h5 model from the given link we copied it and pasted in the neceserry weights folder which we can't find manually\n",
        "\n",
        "\n",
        "> Indented block\n",
        "\n"
      ]
    },
    {
      "cell_type": "code",
      "metadata": {
        "id": "bAcjuQcfAWsM",
        "colab": {
          "base_uri": "https://localhost:8080/"
        },
        "outputId": "38204261-5ec9-4286-a1d2-8ab2ee56132a"
      },
      "source": [
        "%cd /content/drive/My Drive/Deep_learning_datasets/Image to emotion/Deepface\n",
        "%cp facial_expression_model_weights.h5 /root/.deepface/weights/facial_expression_model_weights.h5"
      ],
      "execution_count": 17,
      "outputs": [
        {
          "output_type": "stream",
          "name": "stdout",
          "text": [
            "/content/drive/My Drive/Deep_learning_datasets/Image to emotion/Deepface\n"
          ]
        }
      ]
    },
    {
      "cell_type": "markdown",
      "metadata": {
        "id": "iB-_g9uwfvPK"
      },
      "source": [
        "Google colab ke drive er sathe mount korche jate data access korte pare \n",
        "drive theke othoba kichu download kore amra drive e rakhte pari"
      ]
    },
    {
      "cell_type": "code",
      "metadata": {
        "id": "bsazgepkDtGK",
        "colab": {
          "base_uri": "https://localhost:8080/"
        },
        "outputId": "e3cfd823-e63a-4e1d-c8a5-efc39d98a442"
      },
      "source": [
        "from google.colab import drive\n",
        "drive.mount('/content/drive')"
      ],
      "execution_count": 18,
      "outputs": [
        {
          "output_type": "stream",
          "name": "stdout",
          "text": [
            "Drive already mounted at /content/drive; to attempt to forcibly remount, call drive.mount(\"/content/drive\", force_remount=True).\n"
          ]
        }
      ]
    },
    {
      "cell_type": "code",
      "metadata": {
        "id": "zAYjH_gUcz6o"
      },
      "source": [
        "def image_to_emotion():\n",
        "  s='/content/drive/My Drive/Deep_learning_datasets/Image to emotion/Sample image/'\n",
        "  path=s+input('Enter your file name: ').strip()+'.jpg'\n",
        "  img= cv2.imread(path)\n",
        "  predictions = DeepFace.analyze(img,actions=['emotion'])\n",
        "  print()\n",
        "  return predictions['dominant_emotion']"
      ],
      "execution_count": 19,
      "outputs": []
    },
    {
      "cell_type": "markdown",
      "metadata": {
        "id": "5i7aAsqDgrtK"
      },
      "source": [
        "**PREDICTIONS**"
      ]
    },
    {
      "cell_type": "code",
      "metadata": {
        "id": "kmZWgTJH-v52"
      },
      "source": [
        "import random\n",
        "import pandas as pd"
      ],
      "execution_count": 20,
      "outputs": []
    },
    {
      "cell_type": "code",
      "metadata": {
        "colab": {
          "base_uri": "https://localhost:8080/",
          "height": 241
        },
        "id": "D9TOCoB1_3yr",
        "outputId": "80d98a45-982c-42bb-dd4e-33b2f5359d78"
      },
      "source": [
        "songs=pd.read_csv('/content/drive/My Drive/Deep_learning_datasets/Recommended songs.csv')\n",
        "songs.head()"
      ],
      "execution_count": 21,
      "outputs": [
        {
          "output_type": "execute_result",
          "data": {
            "text/html": [
              "<div>\n",
              "<style scoped>\n",
              "    .dataframe tbody tr th:only-of-type {\n",
              "        vertical-align: middle;\n",
              "    }\n",
              "\n",
              "    .dataframe tbody tr th {\n",
              "        vertical-align: top;\n",
              "    }\n",
              "\n",
              "    .dataframe thead th {\n",
              "        text-align: right;\n",
              "    }\n",
              "</style>\n",
              "<table border=\"1\" class=\"dataframe\">\n",
              "  <thead>\n",
              "    <tr style=\"text-align: right;\">\n",
              "      <th></th>\n",
              "      <th>happy</th>\n",
              "      <th>calm</th>\n",
              "      <th>fear</th>\n",
              "      <th>disgust</th>\n",
              "      <th>surprise</th>\n",
              "      <th>angry</th>\n",
              "      <th>sad</th>\n",
              "      <th>neutral</th>\n",
              "    </tr>\n",
              "  </thead>\n",
              "  <tbody>\n",
              "    <tr>\n",
              "      <th>0</th>\n",
              "      <td>https://youtu.be/R3J3IDgKOLM</td>\n",
              "      <td>https://youtu.be/oWKgpB2zpgw</td>\n",
              "      <td>https://youtu.be/bmyv0nRkDmc</td>\n",
              "      <td>https://youtu.be/3N3n23loy24</td>\n",
              "      <td>https://youtu.be/mDB7eUELUfE\\n</td>\n",
              "      <td>https://youtu.be/xitd9mEZIHk</td>\n",
              "      <td>https://youtu.be/nk5FtEVLrxs</td>\n",
              "      <td>https://youtu.be/5idNBcKDtvA</td>\n",
              "    </tr>\n",
              "    <tr>\n",
              "      <th>1</th>\n",
              "      <td>https://youtu.be/udra3Mfw2oo</td>\n",
              "      <td>https://youtu.be/-RAsJ6dAF68</td>\n",
              "      <td>https://youtu.be/sQTnREEtuNk</td>\n",
              "      <td>https://youtu.be/xRb8hxwN5zc</td>\n",
              "      <td>https://youtu.be/kTXilT_KbUM</td>\n",
              "      <td>https://youtu.be/LXprbHMcfNo</td>\n",
              "      <td>https://youtu.be/Nly8TUAGyYI</td>\n",
              "      <td>https://youtu.be/6AICqitg368</td>\n",
              "    </tr>\n",
              "    <tr>\n",
              "      <th>2</th>\n",
              "      <td>https://youtu.be/bw7bVpI5VcM</td>\n",
              "      <td>https://youtu.be/Zcb0oGYwp4E</td>\n",
              "      <td>https://youtu.be/T94PHkuydcw</td>\n",
              "      <td>https://youtu.be/PJWemSzExXs</td>\n",
              "      <td>https://youtu.be/8xP9GY8LKj8</td>\n",
              "      <td>https://youtu.be/mQvteoFiMlg</td>\n",
              "      <td>https://youtu.be/LeZE52gkRIw</td>\n",
              "      <td>https://youtu.be/6zoD2FNvCIo</td>\n",
              "    </tr>\n",
              "    <tr>\n",
              "      <th>3</th>\n",
              "      <td>https://youtu.be/PhkADyPektU\\n</td>\n",
              "      <td>https://youtu.be/6MgsHSAcI9k</td>\n",
              "      <td>https://youtu.be/bnqLzCsffwY</td>\n",
              "      <td>https://youtu.be/EwIljm4gFoE</td>\n",
              "      <td>https://youtu.be/C04azkb2WN4\\n</td>\n",
              "      <td>https://youtu.be/2Vv-BfVoq4g</td>\n",
              "      <td>https://youtu.be/bmyv0nRkDmc</td>\n",
              "      <td>https://youtu.be/AVM4J0qvdKw</td>\n",
              "    </tr>\n",
              "    <tr>\n",
              "      <th>4</th>\n",
              "      <td>https://youtu.be/zpsVpnvFfZQ</td>\n",
              "      <td>https://youtu.be/4YbAaRFk70o</td>\n",
              "      <td>https://youtu.be/dx4Teh-nv3A</td>\n",
              "      <td>https://youtu.be/z1ihvaEmRMg</td>\n",
              "      <td>https://youtu.be/ZrX1XKtShSI\\n</td>\n",
              "      <td>https://youtu.be/d_HlPboLRL8</td>\n",
              "      <td>https://youtu.be/m0wYJnCq-4M</td>\n",
              "      <td>https://youtu.be/_wFwH7rc6BA</td>\n",
              "    </tr>\n",
              "  </tbody>\n",
              "</table>\n",
              "</div>"
            ],
            "text/plain": [
              "                            happy  ...                       neutral\n",
              "0    https://youtu.be/R3J3IDgKOLM  ...  https://youtu.be/5idNBcKDtvA\n",
              "1    https://youtu.be/udra3Mfw2oo  ...  https://youtu.be/6AICqitg368\n",
              "2    https://youtu.be/bw7bVpI5VcM  ...  https://youtu.be/6zoD2FNvCIo\n",
              "3  https://youtu.be/PhkADyPektU\\n  ...  https://youtu.be/AVM4J0qvdKw\n",
              "4    https://youtu.be/zpsVpnvFfZQ  ...  https://youtu.be/_wFwH7rc6BA\n",
              "\n",
              "[5 rows x 8 columns]"
            ]
          },
          "metadata": {},
          "execution_count": 21
        }
      ]
    },
    {
      "cell_type": "code",
      "metadata": {
        "colab": {
          "base_uri": "https://localhost:8080/"
        },
        "id": "34XjPuNvd1NY",
        "outputId": "e32b96ea-8ed3-4c27-8582-154afd136c85"
      },
      "source": [
        "n=int(input('Enter 1 for image and 2 for audio: '))\n",
        "\n",
        "if n==1:\n",
        "  m=image_to_emotion()\n",
        "  print('We think your emotion is : ',m)\n",
        "elif n==2:\n",
        "  m=speech_to_emotion()\n",
        "  print('We think your emotion is : ',m)\n",
        "\n",
        "#this was previous recommendations\n",
        "# if n==1 or n==2:\n",
        "#   r=list(songs[str(m)])\n",
        "#   random.shuffle(r)\n",
        "#   print('Here we are recommending some songs for you: ')\n",
        "#   for i in range(5):\n",
        "#     print(r[i])\n",
        "\n",
        "# else:\n",
        "#   print('Invalid input')\n",
        "\n",
        "#using api\n",
        "\n",
        "print('Here we are recommending some videos for you: ')\n",
        "s=\"https://www.youtube.com/results?search_query={prediction}+{language}+song\".format(prediction=m,language='english')\n",
        "print(s)"
      ],
      "execution_count": 25,
      "outputs": [
        {
          "output_type": "stream",
          "name": "stdout",
          "text": [
            "Enter 1 for image and 2 for audio: 1\n",
            "Enter your file name: image32\n",
            "\n",
            "We think your emotion is :  surprise\n",
            "Here we are recommending some videos for you: \n",
            "https://www.youtube.com/results?search_query=surprise+english+song\n"
          ]
        }
      ]
    },
    {
      "cell_type": "code",
      "metadata": {
        "id": "SaeeDO1EedG7"
      },
      "source": [
        ""
      ],
      "execution_count": null,
      "outputs": []
    }
  ]
}